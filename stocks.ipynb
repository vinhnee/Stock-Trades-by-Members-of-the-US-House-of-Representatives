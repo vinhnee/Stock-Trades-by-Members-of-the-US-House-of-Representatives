{
 "cells": [
  {
   "cell_type": "markdown",
   "metadata": {},
   "source": [
    "# Stock Trades by Members of the US House of Representatives\n"
   ]
  },
  {
   "cell_type": "markdown",
   "metadata": {},
   "source": [
    "# Summary of Findings\n",
    "\n",
    "\n",
    "### Introduction\n",
    "In our project, we are attempting to predict whether a particular trade is a buy or sell, making this a classification problem. The target variable we will try and predict is 'type', which has three possibilities: purchase, sale_full, and sale_partial. We will be combining sale_full and sale_partial into one 'sale' value to make the column a binary type. We are hoping to get an R^2 score of .75 or higher on our model performances as that would let us know that our model works well.\n",
    "\n",
    "### Baseline Model\n",
    "The baseline model we used was the Decision Tree Classifier. It consists of three features which we one-hot encoded: ticker, and owner, and cap_gains_over_200_usd. both of which are nominal features. Our model performance came out to be around 62%, which was noticeably lower than our goal of 75% or higher. Although the score is not as high as we would have liked, we believe it is as high as we could get with the features and variables we had in this dataset. In addition, we do not consider 62% a bad score as our training accuracy was around 76%, which is not a huge difference from our test score.\n",
    "\n",
    "### Final Model\n",
    "We created some new features in addition to the stocks dataframe: transaction_month, disclosure_month, disclosure_diff, quarter_purchased. These features are mostly self explanatory, however the disclosure_diff column was made to show the number of days after the transaction was made was the transactiona actually disclosed. This allowed us to have more quantitative features available for us to use and combine when it came to getting a high accuracy test score. We ended up creating multiple models to compare testing scores which can be seen in the code below, but we went with the DecisionTreeClassifier model as it seemed to have scored the best. The RandomForestClassifier model had extremely similar test scores to the DecisionTree however, while the other models had significantly lower scores. By comparing multiple models' test scores, we came to the conclusion that the Decision Tree model was the best. Additionally, when picking paramaters, we used a manual iterative method by checking various different combinations of categorical and numerical features. We found that the parameters 'state', 'ticker', 'cap_gains_over_200_usd', 'owner', 'quarter_purchased', 'transaction_month', 'disclosure_month', and 'disclosure_diff' were used in multiple transformations in our final model. The transformers which gave us the best results were one-hot encoding the 'state', 'ticker', and 'cap_gains' columns, using the StdScalerByGroup() we implemented in lab 9 to standardize the 'quarter_purchased' column by the 'owner' type of the transaction, log-scaling the 'transaction_month' and 'disclosure_month', and imputing missing values of 'disclosure_diff' with the column's mean.\n",
    "\n",
    "### Fairness Evaluation\n",
    "For a fairness evaluation on this dataset, we can take a look at when exactly the transaction for the stock took place. One thing we can do is see whether or not the part of the year the transaction was made in affects the R^2 (or score) of the model we had built. For our permutation test, we can say that our null hypothesis is: the model is fair; the R^2 value for the two subsets are the same. For our alternative hypothesis, we can say the model is unfair; the R^2 value for the subset that included only the transactions made in the first half of the year is higher than that of the subset which shows purchases made in the second half of the year. To do this, we split up the dataset into two separate dataframes: one containing transactions made only in the first half of the year, the second containing transactions made only in the second half of the year. We then ran our best performing model, which used the DecisionTreeClassifier, on our newly separated dataframes, and calculated the R^2 of each model, and found the mean difference between the two scores over 500 trials. This ended up being 0.021926800323512106, which is not too high. We then ran the permutation test, again with 500 trials, but this time instead of splitting the dataset based on the time the transaction was made, we simply split the dataset randomly using train_test_split. From this, we again computed the R^2 of each model, and found the difference between the two scores. When comparing these scores to our observed values, we find a p-value of 0.328, and with a threshold of .05, we fail to reject our null hypothesis, and can conclude that the time of year in which the stock transaction was made is insignificant when training our model. "
   ]
  },
  {
   "cell_type": "markdown",
   "metadata": {},
   "source": [
    "# Code"
   ]
  },
  {
   "cell_type": "code",
   "execution_count": 29,
   "metadata": {},
   "outputs": [],
   "source": [
    "import matplotlib.pyplot as plt\n",
    "import numpy as np\n",
    "import os\n",
    "import pandas as pd\n",
    "import seaborn as sns\n",
    "from sklearn.linear_model import LinearRegression\n",
    "from sklearn.linear_model import LinearRegression\n",
    "from sklearn.preprocessing import FunctionTransformer\n",
    "from sklearn.preprocessing import OneHotEncoder\n",
    "from sklearn.pipeline import Pipeline\n",
    "from sklearn.compose import ColumnTransformer\n",
    "from sklearn.tree import DecisionTreeClassifier\n",
    "from sklearn.preprocessing import StandardScaler\n",
    "from sklearn.neighbors import KNeighborsClassifier\n",
    "from sklearn.ensemble import RandomForestClassifier\n",
    "from sklearn.svm import SVC\n",
    "from sklearn.impute import SimpleImputer\n",
    "from sklearn.model_selection import train_test_split\n",
    "\n",
    "\n",
    "\n",
    "%matplotlib inline\n",
    "%config InlineBackend.figure_format = 'retina'  # Higher resolution figures"
   ]
  },
  {
   "cell_type": "markdown",
   "metadata": {},
   "source": [
    "### Data Cleaning"
   ]
  },
  {
   "cell_type": "code",
   "execution_count": 30,
   "metadata": {
    "tags": []
   },
   "outputs": [],
   "source": [
    "stocks = pd.read_csv('data/all_transactions.csv')"
   ]
  },
  {
   "cell_type": "code",
   "execution_count": 31,
   "metadata": {},
   "outputs": [],
   "source": [
    "#new features to include in description - state, trans_month, disc_month, disc_diff, quarter_purchased\n",
    "#replace blanks and dashes with NaN, drop link column for simplicity\n",
    "def clean_helper(data):\n",
    "    if data == '--':\n",
    "        data = data.replace('--', 'NaN')\n",
    "    if data == '':\n",
    "        data = data.replace('', 'NaN')\n",
    "    return data\n",
    "\n",
    "def binarize_helper(data):\n",
    "    if data == 'sale':\n",
    "        data = 1\n",
    "    if data == 'purchase':\n",
    "        data = 0\n",
    "    return data\n",
    "\n",
    "def type_helper(data):\n",
    "    if 'sale' in data:\n",
    "        data = 'sale'\n",
    "    return data\n",
    "stocks = stocks.dropna()\n",
    "stocks['owner'] = stocks['owner'].apply(clean_helper)\n",
    "stocks['ticker'] = stocks['ticker'].apply(clean_helper)\n",
    "stocks['type'] = stocks['type'].apply(type_helper)\n",
    "stocks['type_binarized'] = stocks['type'].apply(binarize_helper)\n",
    "stocks = stocks.drop(columns = ['ptr_link'])\n",
    "#convert disclosure and transaction date to datetime, \n",
    "#create new column calculating the time from transaction date and to datetime\n",
    "stocks['disclosure_date'] = pd.to_datetime(stocks['disclosure_date'], exact=False, errors='coerce')\n",
    "stocks['transaction_date'] = pd.to_datetime(stocks['transaction_date'], exact=False, errors='coerce')\n",
    "stocks['disclosure_diff'] = stocks['disclosure_date'] - stocks['transaction_date']\n",
    "stocks['disclosure_diff'] = stocks['disclosure_diff'].dt.days\n",
    "stocks = stocks.dropna()\n",
    "stocks['disclosure_diff'] = stocks['disclosure_diff'].astype(int)\n",
    "#create new column showing the state from which the representative who purchased the stock is from\n",
    "stocks['state'] = stocks['district'].astype(str).str[:-2]"
   ]
  },
  {
   "cell_type": "markdown",
   "metadata": {},
   "source": [
    "### Baseline Model"
   ]
  },
  {
   "cell_type": "code",
   "execution_count": 32,
   "metadata": {},
   "outputs": [],
   "source": [
    "def baseline_model(data):\n",
    "    copy = data.copy()\n",
    "    cat_feat = ['ticker', 'owner', 'cap_gains_over_200_usd']\n",
    "    preproc = ColumnTransformer(\n",
    "        transformers = [\n",
    "            ('one-hot', OneHotEncoder(handle_unknown = 'ignore'), cat_feat)\n",
    "        ])\n",
    "    pl = Pipeline(steps = [('preprocessor', preproc), ('dtc', DecisionTreeClassifier())])\n",
    "    X = copy.drop('type', axis = 1)\n",
    "    y = copy.type\n",
    "    X_train, X_test, y_train, y_test = train_test_split(X, y)\n",
    "    pl.fit(X_train, y_train)\n",
    "    score = pl.score(X_test, y_test)\n",
    "    return score"
   ]
  },
  {
   "cell_type": "code",
   "execution_count": 33,
   "metadata": {},
   "outputs": [
    {
     "data": {
      "text/plain": [
       "0.6269191402251791"
      ]
     },
     "execution_count": 33,
     "metadata": {},
     "output_type": "execute_result"
    },
    {
     "data": {
      "image/png": "[encoded data removed]",
      "text/plain": [
       "<Figure size 432x288 with 1 Axes>"
      ]
     },
     "metadata": {
      "image/png": {
       "height": 263,
       "width": 382
      },
      "needs_background": "light"
     },
     "output_type": "display_data"
    }
   ],
   "source": [
    "scores = []\n",
    "for i in range(50):\n",
    "    score = baseline_model(stocks)\n",
    "    scores.append(score)\n",
    "pd.Series(scores).plot(kind = 'hist', title = 'Scores')\n",
    "max(scores)"
   ]
  },
  {
   "cell_type": "markdown",
   "metadata": {},
   "source": [
    "### Final Model"
   ]
  },
  {
   "cell_type": "code",
   "execution_count": 34,
   "metadata": {},
   "outputs": [],
   "source": [
    "stocks['transaction_date'] = pd.DatetimeIndex(stocks['transaction_date']).month\n",
    "stocks = stocks.rename(columns = {'transaction_date': 'transaction_month'})\n",
    "\n",
    "\n",
    "stocks['disclosure_date'] = pd.DatetimeIndex(stocks['disclosure_date']).month\n",
    "stocks = stocks.rename(columns = {'disclosure_date': 'disclosure_month'})"
   ]
  },
  {
   "cell_type": "code",
   "execution_count": 35,
   "metadata": {},
   "outputs": [],
   "source": [
    "def month_bin(month):\n",
    "    if month >= 1 and month <= 3:\n",
    "        month = 1\n",
    "    if month >= 4 and month <= 6:\n",
    "        month = 2\n",
    "    if month >= 7 and month <= 9:\n",
    "        month = 3\n",
    "    if month >= 10 and month <= 12:\n",
    "        month = 4\n",
    "    return month\n",
    "\n",
    "stocks['quarter_purchased'] = stocks['transaction_month'].apply(month_bin)"
   ]
  },
  {
   "cell_type": "code",
   "execution_count": 36,
   "metadata": {},
   "outputs": [],
   "source": [
    "from sklearn.base import BaseEstimator, TransformerMixin\n",
    "\n",
    "\n",
    "class StdScalerByGroup(BaseEstimator, TransformerMixin):\n",
    "\n",
    "    def __init__(self):\n",
    "        pass\n",
    "\n",
    "    def fit(self, X, y=None):\n",
    "        \"\"\"\n",
    "        :Example:\n",
    "        >>> cols = {'g': ['A', 'A', 'B', 'B'], 'c1': [1, 2, 2, 2], 'c2': [3, 1, 2, 0]}\n",
    "        >>> X = pd.DataFrame(cols)\n",
    "        >>> std = StdScalerByGroup().fit(X)\n",
    "        >>> std.grps_ is not None\n",
    "        True\n",
    "        \"\"\"\n",
    "        # X may not be a pandas dataframe (e.g. a np.array)\n",
    "        df = pd.DataFrame(X)\n",
    "        # A dictionary of means/standard-deviations for each column, for each group.\n",
    "        mean = df.groupby(df.columns[0]).mean().to_dict()\n",
    "        std = df.groupby(df.columns[0]).std().to_dict()\n",
    "        self.grps_ = (mean, std)\n",
    "        return self\n",
    "\n",
    "    def transform(self, X, y=None):\n",
    "        \"\"\"\n",
    "        :Example:\n",
    "        >>> cols = {'g': ['A', 'A', 'B', 'B'], 'c1': [1, 2, 3, 4], 'c2': [1, 2, 3, 4]}\n",
    "        >>> X = pd.DataFrame(cols)\n",
    "        >>> std = StdScalerByGroup().fit(X)\n",
    "        >>> out = std.transform(X)\n",
    "        >>> out.shape == (4, 2)\n",
    "        True\n",
    "        >>> np.isclose(out.abs(), 0.707107, atol=0.001).all().all()\n",
    "        True\n",
    "        \"\"\"\n",
    "        #- z-score: z = (x-μ)/σ, where x is the raw score, μ is the population mean, and σ is the population standard deviation.\n",
    "\n",
    "        try:\n",
    "            getattr(self, \"grps_\")\n",
    "        except AttributeError:\n",
    "            raise RuntimeError(\"You must fit the transformer before tranforming the data!\")\n",
    "        \n",
    "        # Define a helper function here?\n",
    "        def find_z_score(group, column, raw_score):\n",
    "            #try:\n",
    "                mean = self.grps_[0][column][group]\n",
    "                std = self.grps_[1][column][group]\n",
    "                z_score = (raw_score - mean) / std\n",
    "                return z_score\n",
    "            #except KeyError:\n",
    "                #return 0\n",
    "        #X may not be a dataframe (e.g. np.array)\n",
    "        df = pd.DataFrame(X)\n",
    "        copy = df.copy()\n",
    "        copy = copy.iloc[: , 1:]\n",
    "        group = df.iloc[:, 0]\n",
    "        result = copy.copy()\n",
    "        for i in group.unique():\n",
    "            for j in copy:\n",
    "                raw_score = df[[j]]\n",
    "                raw_score = raw_score.loc[group == i].astype(float)\n",
    "                result.update(find_z_score(i, j, raw_score))\n",
    "        return result"
   ]
  },
  {
   "cell_type": "code",
   "execution_count": 37,
   "metadata": {},
   "outputs": [],
   "source": [
    "def DTC_model(data):\n",
    "    copy = data.copy()\n",
    "    preproc = ColumnTransformer(\n",
    "        transformers = [\n",
    "            ('one-hot', OneHotEncoder(handle_unknown = 'ignore'), ['state', 'ticker', 'cap_gains_over_200_usd']),\n",
    "            ('std-scaler', StdScalerByGroup(), ['owner', 'quarter_purchased']),\n",
    "            ('log', FunctionTransformer(np.log1p, validate = True), ['transaction_month', 'disclosure_month']),\n",
    "            ('impute', SimpleImputer(missing_values = np.nan, strategy = 'mean'), ['disclosure_diff'])\n",
    "        ])\n",
    "    pl = Pipeline(steps = [('preprocessor', preproc), ('dtc', DecisionTreeClassifier())])\n",
    "    X = copy.drop('type', axis = 1)\n",
    "    y = copy.type\n",
    "    X_train, X_test, y_train, y_test = train_test_split(X, y)\n",
    "    pl.fit(X_train, y_train)\n",
    "    preds = pl.predict(X_test)\n",
    "    score = pl.score(X_test, y_test)\n",
    "    return score"
   ]
  },
  {
   "cell_type": "code",
   "execution_count": 39,
   "metadata": {},
   "outputs": [
    {
     "data": {
      "text/plain": [
       "0.7645854657113613"
      ]
     },
     "execution_count": 39,
     "metadata": {},
     "output_type": "execute_result"
    },
    {
     "data": {
      "image/png": "[encoded data removed]",
      "text/plain": [
       "<Figure size 432x288 with 1 Axes>"
      ]
     },
     "metadata": {
      "image/png": {
       "height": 263,
       "width": 384
      },
      "needs_background": "light"
     },
     "output_type": "display_data"
    }
   ],
   "source": [
    "stocks = stocks.dropna()\n",
    "scores = []\n",
    "for i in range(50):\n",
    "    score = DTC_model(stocks)\n",
    "    scores.append(score)\n",
    "pd.Series(scores).plot(kind = 'hist', title = 'Scores')\n",
    "max(scores)"
   ]
  },
  {
   "cell_type": "code",
   "execution_count": 40,
   "metadata": {},
   "outputs": [],
   "source": [
    "def KNC_model(data):\n",
    "    copy = data.copy()\n",
    "    preproc = ColumnTransformer(\n",
    "        transformers = [\n",
    "            ('one-hot', OneHotEncoder(handle_unknown = 'ignore'), ['state', 'ticker', 'cap_gains_over_200_usd']),\n",
    "            ('std-scaler', StdScalerByGroup(), ['owner', 'quarter_purchased']),\n",
    "            ('log', FunctionTransformer(np.log1p, validate = True), ['transaction_month', 'disclosure_month']),\n",
    "            ('impute', SimpleImputer(missing_values = np.nan, strategy = 'mean'), ['disclosure_diff'])\n",
    "        ])\n",
    "    pl = Pipeline(steps = [('preprocessor', preproc), ('dtc', KNeighborsClassifier())])\n",
    "    X = copy.drop('type', axis = 1)\n",
    "    y = copy.type\n",
    "    X_train, X_test, y_train, y_test = train_test_split(X, y)\n",
    "    pl.fit(X_train, y_train)\n",
    "    preds = pl.predict(X_test)\n",
    "    score = pl.score(X_test, y_test)\n",
    "    return score"
   ]
  },
  {
   "cell_type": "code",
   "execution_count": 41,
   "metadata": {},
   "outputs": [
    {
     "data": {
      "text/plain": [
       "0.710849539406346"
      ]
     },
     "execution_count": 41,
     "metadata": {},
     "output_type": "execute_result"
    },
    {
     "data": {
      "image/png": "[encoded data removed]",
      "text/plain": [
       "<Figure size 432x288 with 1 Axes>"
      ]
     },
     "metadata": {
      "image/png": {
       "height": 263,
       "width": 382
      },
      "needs_background": "light"
     },
     "output_type": "display_data"
    }
   ],
   "source": [
    "stocks = stocks.dropna()\n",
    "scores = []\n",
    "for i in range(50):\n",
    "    score = KNC_model(stocks)\n",
    "    scores.append(score)\n",
    "pd.Series(scores).plot(kind = 'hist', title = 'Scores')\n",
    "max(scores)"
   ]
  },
  {
   "cell_type": "code",
   "execution_count": 42,
   "metadata": {},
   "outputs": [],
   "source": [
    "def random_forest_model(data):\n",
    "    copy = data.copy()\n",
    "    preproc = ColumnTransformer(\n",
    "        transformers = [\n",
    "            ('one-hot', OneHotEncoder(handle_unknown = 'ignore'), ['state', 'ticker', 'cap_gains_over_200_usd']),\n",
    "            ('std-scaler', StdScalerByGroup(), ['owner', 'quarter_purchased']),\n",
    "            ('log', FunctionTransformer(np.log1p, validate = True), ['transaction_month', 'disclosure_month']),\n",
    "            ('impute', SimpleImputer(missing_values = np.nan, strategy = 'mean'), ['disclosure_diff'])\n",
    "        ])\n",
    "    pl = Pipeline(steps = [('preprocessor', preproc), ('dtc', RandomForestClassifier())])\n",
    "    X = copy.drop('type', axis = 1)\n",
    "    y = copy.type\n",
    "    X_train, X_test, y_train, y_test = train_test_split(X, y)\n",
    "    pl.fit(X_train, y_train)\n",
    "    preds = pl.predict(X_test)\n",
    "    score = pl.score(X_test, y_test)\n",
    "    return score"
   ]
  },
  {
   "cell_type": "code",
   "execution_count": 43,
   "metadata": {},
   "outputs": [
    {
     "data": {
      "text/plain": [
       "0.7804503582395087"
      ]
     },
     "execution_count": 43,
     "metadata": {},
     "output_type": "execute_result"
    },
    {
     "data": {
      "image/png": "[encoded data removed]",
      "text/plain": [
       "<Figure size 432x288 with 1 Axes>"
      ]
     },
     "metadata": {
      "image/png": {
       "height": 263,
       "width": 382
      },
      "needs_background": "light"
     },
     "output_type": "display_data"
    }
   ],
   "source": [
    "stocks = stocks.dropna()\n",
    "scores = []\n",
    "for i in range(50):\n",
    "    score = random_forest_model(stocks)\n",
    "    scores.append(score)\n",
    "pd.Series(scores).plot(kind = 'hist', title = 'Scores')\n",
    "max(scores)"
   ]
  },
  {
   "cell_type": "code",
   "execution_count": 44,
   "metadata": {},
   "outputs": [],
   "source": [
    "def SVC_model(data):\n",
    "    copy = data.copy()\n",
    "    preproc = ColumnTransformer(\n",
    "        transformers = [\n",
    "            ('one-hot', OneHotEncoder(handle_unknown = 'ignore'), ['state', 'ticker', 'cap_gains_over_200_usd']),\n",
    "            ('std-scaler', StdScalerByGroup(), ['owner', 'quarter_purchased']),\n",
    "            ('log', FunctionTransformer(np.log1p, validate = True), ['transaction_month', 'disclosure_month']),\n",
    "            ('impute', SimpleImputer(missing_values = np.nan, strategy = 'mean'), ['disclosure_diff'])\n",
    "        ])\n",
    "    pl = Pipeline(steps = [('preprocessor', preproc), ('dtc', SVC())])\n",
    "    X = copy.drop('type', axis = 1)\n",
    "    y = copy.type\n",
    "    X_train, X_test, y_train, y_test = train_test_split(X, y)\n",
    "    pl.fit(X_train, y_train)\n",
    "    preds = pl.predict(X_test)\n",
    "    score = pl.score(X_test, y_test)\n",
    "    return score"
   ]
  },
  {
   "cell_type": "code",
   "execution_count": 45,
   "metadata": {},
   "outputs": [
    {
     "data": {
      "text/plain": [
       "0.5813715455475946"
      ]
     },
     "execution_count": 45,
     "metadata": {},
     "output_type": "execute_result"
    },
    {
     "data": {
      "image/png": "[encoded data removed]",
      "text/plain": [
       "<Figure size 432x288 with 1 Axes>"
      ]
     },
     "metadata": {
      "image/png": {
       "height": 263,
       "width": 382
      },
      "needs_background": "light"
     },
     "output_type": "display_data"
    }
   ],
   "source": [
    "stocks = stocks.dropna()\n",
    "scores = []\n",
    "for i in range(50):\n",
    "    score = SVC_model(stocks)\n",
    "    scores.append(score)\n",
    "pd.Series(scores).plot(kind = 'hist', title = 'Scores')\n",
    "max(scores)"
   ]
  },
  {
   "cell_type": "markdown",
   "metadata": {},
   "source": [
    "### Fairness Evaluation"
   ]
  },
  {
   "cell_type": "code",
   "execution_count": 109,
   "metadata": {},
   "outputs": [],
   "source": [
    "def get_obs(data, N):\n",
    "    copy = data.copy()\n",
    "    first_half = copy[copy['transaction_month'] <= 6]\n",
    "    second_half = copy[copy['transaction_month'] >= 7]\n",
    "    r2_diff = []\n",
    "    \n",
    "    for i in range(N):\n",
    "        preproc = ColumnTransformer(\n",
    "        transformers = [\n",
    "            ('one-hot', OneHotEncoder(handle_unknown = 'ignore'), ['state', 'ticker', 'cap_gains_over_200_usd']),\n",
    "            ('std-scaler', StdScalerByGroup(), ['owner', 'quarter_purchased']),\n",
    "            ('log', FunctionTransformer(np.log1p, validate = True), ['transaction_month', 'disclosure_month']),\n",
    "            ('impute', SimpleImputer(missing_values = np.nan, strategy = 'mean'), ['disclosure_diff'])\n",
    "        ])\n",
    "        \n",
    "        \n",
    "        pl1 = Pipeline(steps = [('preprocessor', preproc), ('dtc', DecisionTreeClassifier())])\n",
    "        X1 = first_half.drop('type', axis = 1)\n",
    "        y1 = first_half.type\n",
    "        X_train1, X_test1, y_train1, y_test1 = train_test_split(X1, y1)\n",
    "        pl1.fit(X_train1, y_train1)\n",
    "        score1 = pl1.score(X_test1, y_test1)\n",
    "        \n",
    "        pl2 = Pipeline(steps = [('preprocessor', preproc), ('dtc', DecisionTreeClassifier())])\n",
    "        X2 = second_half.drop('type', axis = 1)\n",
    "        y2 = second_half.type\n",
    "        X_train2, X_test2, y_train2, y_test2 = train_test_split(X2, y2)\n",
    "        pl2.fit(X_train2, y_train2)\n",
    "        score2 = pl2.score(X_test2, y_test2)\n",
    "        \n",
    "        r2_diff.append(abs(score1 - score2))\n",
    "    return r2_diff"
   ]
  },
  {
   "cell_type": "code",
   "execution_count": 110,
   "metadata": {},
   "outputs": [
    {
     "data": {
      "text/plain": [
       "0.021926800323512106"
      ]
     },
     "execution_count": 110,
     "metadata": {},
     "output_type": "execute_result"
    }
   ],
   "source": [
    "stocks = stocks.dropna()\n",
    "obs = np.mean(get_obs(stocks, 500))\n",
    "obs"
   ]
  },
  {
   "cell_type": "code",
   "execution_count": 111,
   "metadata": {},
   "outputs": [],
   "source": [
    "def perm_test(data, N):\n",
    "    copy = data.copy()\n",
    "    r2_diff = []\n",
    "    test_dfA, test_dfB = train_test_split(copy, test_size = 0.5)\n",
    "\n",
    "    for i in range(N):\n",
    "        preproc = ColumnTransformer(\n",
    "        transformers = [\n",
    "            ('one-hot', OneHotEncoder(handle_unknown = 'ignore'), ['state', 'ticker', 'cap_gains_over_200_usd']),\n",
    "            ('std-scaler', StdScalerByGroup(), ['owner', 'quarter_purchased']),\n",
    "            ('log', FunctionTransformer(np.log1p, validate = True), ['transaction_month', 'disclosure_month']),\n",
    "            ('impute', SimpleImputer(missing_values = np.nan, strategy = 'mean'), ['disclosure_diff'])\n",
    "        ])\n",
    "        \n",
    "        \n",
    "        pl1 = Pipeline(steps = [('preprocessor', preproc), ('dtc', DecisionTreeClassifier())])\n",
    "        X1 = test_dfA.drop('type', axis = 1)\n",
    "        y1 = test_dfA.type\n",
    "        X_train1, X_test1, y_train1, y_test1 = train_test_split(X1, y1)\n",
    "        pl1.fit(X_train1, y_train1)\n",
    "        score1 = pl1.score(X_test1, y_test1)\n",
    "        \n",
    "        pl2 = Pipeline(steps = [('preprocessor', preproc), ('dtc', DecisionTreeClassifier())])\n",
    "        X2 = test_dfB.drop('type', axis = 1)\n",
    "        y2 = test_dfB.type\n",
    "        X_train2, X_test2, y_train2, y_test2 = train_test_split(X2, y2)\n",
    "        pl2.fit(X_train2, y_train2)\n",
    "        score2 = pl2.score(X_test2, y_test2)\n",
    "        \n",
    "        r2_diff.append(score1 - score2)\n",
    "    return r2_diff"
   ]
  },
  {
   "cell_type": "code",
   "execution_count": 112,
   "metadata": {},
   "outputs": [
    {
     "data": {
      "text/plain": [
       "0.328"
      ]
     },
     "execution_count": 112,
     "metadata": {},
     "output_type": "execute_result"
    }
   ],
   "source": [
    "stocks = stocks.dropna()\n",
    "N = 500\n",
    "differences = perm_test(stocks, N)\n",
    "p_value = np.mean(differences > obs)\n",
    "p_value"
   ]
  }
 ],
 "metadata": {
  "kernelspec": {
   "display_name": "Python 3",
   "language": "python",
   "name": "python3"
  },
  "language_info": {
   "codemirror_mode": {
    "name": "ipython",
    "version": 3
   },
   "file_extension": ".py",
   "mimetype": "text/x-python",
   "name": "python",
   "nbconvert_exporter": "python",
   "pygments_lexer": "ipython3",
   "version": "3.8.8"
  }
 },
 "nbformat": 4,
 "nbformat_minor": 4
}
